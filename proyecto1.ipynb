{
 "cells": [
  {
   "cell_type": "markdown",
   "id": "e1416c88-f481-44d1-ae24-0d442f42b476",
   "metadata": {},
   "source": [
    "## PROYECTO 1"
   ]
  },
  {
   "cell_type": "markdown",
   "id": "3db43d8e-0c02-4035-8552-82826490b343",
   "metadata": {},
   "source": [
    "Integrantes:\n",
    "\n",
    "* Andres Felipe Delgado\n",
    "* Jaime Torres\n",
    "* Sebastian Gonzalez"
   ]
  },
  {
   "cell_type": "code",
   "execution_count": 66,
   "id": "24272259-ff8b-4f10-92ac-b648ca94da4b",
   "metadata": {
    "collapsed": true,
    "jupyter": {
     "outputs_hidden": true
    },
    "tags": []
   },
   "outputs": [
    {
     "name": "stdout",
     "output_type": "stream",
     "text": [
      "Collecting imblearn\n",
      "  Downloading imblearn-0.0-py2.py3-none-any.whl (1.9 kB)\n",
      "Collecting imbalanced-learn\n",
      "  Downloading imbalanced_learn-0.8.1-py3-none-any.whl (189 kB)\n",
      "\u001b[K     |████████████████████████████████| 189 kB 97 kB/s eta 0:00:011\n",
      "\u001b[?25hRequirement already satisfied: scikit-learn>=0.24 in /Users/Sebastian/opt/anaconda3/lib/python3.8/site-packages (from imbalanced-learn->imblearn) (0.24.1)\n",
      "Requirement already satisfied: scipy>=0.19.1 in /Users/Sebastian/opt/anaconda3/lib/python3.8/site-packages (from imbalanced-learn->imblearn) (1.6.2)\n",
      "Requirement already satisfied: numpy>=1.13.3 in /Users/Sebastian/opt/anaconda3/lib/python3.8/site-packages (from imbalanced-learn->imblearn) (1.20.1)\n",
      "Requirement already satisfied: joblib>=0.11 in /Users/Sebastian/opt/anaconda3/lib/python3.8/site-packages (from imbalanced-learn->imblearn) (1.0.1)\n",
      "Requirement already satisfied: threadpoolctl>=2.0.0 in /Users/Sebastian/opt/anaconda3/lib/python3.8/site-packages (from scikit-learn>=0.24->imbalanced-learn->imblearn) (2.1.0)\n",
      "Installing collected packages: imbalanced-learn, imblearn\n",
      "Successfully installed imbalanced-learn-0.8.1 imblearn-0.0\n",
      "Note: you may need to restart the kernel to use updated packages.\n"
     ]
    }
   ],
   "source": [
    "pip install imblearn"
   ]
  },
  {
   "cell_type": "code",
   "execution_count": 113,
   "id": "471895bb-5293-479e-9462-71f394dfeb44",
   "metadata": {},
   "outputs": [
    {
     "name": "stderr",
     "output_type": "stream",
     "text": [
      "[nltk_data] Downloading package stopwords to\n",
      "[nltk_data]     /Users/Sebastian/nltk_data...\n",
      "[nltk_data]   Package stopwords is already up-to-date!\n"
     ]
    }
   ],
   "source": [
    "%matplotlib inline\n",
    "\n",
    "import sqlite3\n",
    "import pandas as pd\n",
    "import numpy as np\n",
    "import nltk\n",
    "nltk.download('stopwords')\n",
    "import string\n",
    "import matplotlib.pyplot as plt\n",
    "import seaborn as sns\n",
    "from sklearn.feature_extraction.text import TfidfTransformer\n",
    "from sklearn.feature_extraction.text import TfidfVectorizer\n",
    "import re\n",
    "from sklearn.utils import shuffle\n",
    "import warnings\n",
    "warnings.filterwarnings(\"ignore\")\n",
    "\n",
    "from sklearn.feature_extraction.text import CountVectorizer\n",
    "from sklearn.metrics import confusion_matrix\n",
    "from sklearn import metrics\n",
    "from sklearn.metrics import roc_curve, auc\n",
    "from nltk.stem.porter import PorterStemmer\n",
    "import string\n",
    "from nltk.corpus import stopwords\n",
    "from nltk.stem import PorterStemmer\n",
    "from nltk.stem.wordnet import WordNetLemmatizer\n",
    "from nltk import FreqDist\n",
    "from sklearn.model_selection import train_test_split\n",
    "#from keras.models import Sequential\n",
    "#from keras.layers import Dense, Dropout\n",
    "#from keras.layers import LSTM\n",
    "#from keras.layers.embeddings import Embedding\n",
    "#from keras.preprocessing import sequence\n",
    "#from keras.callbacks import EarlyStopping"
   ]
  },
  {
   "cell_type": "markdown",
   "id": "0a74fe49-befe-4e58-b5df-1f10d72e360a",
   "metadata": {},
   "source": [
    "## Cargue de datos"
   ]
  },
  {
   "cell_type": "code",
   "execution_count": 12,
   "id": "24596f09-9336-40fa-abfb-45bf1bd31343",
   "metadata": {},
   "outputs": [],
   "source": [
    "# Se cargan los datos. \n",
    "df_entrada=pd.read_csv('Reviews.csv', sep=',', encoding = 'utf-8')"
   ]
  },
  {
   "cell_type": "markdown",
   "id": "444813d7-a50d-431d-80a4-e4edf89d9ed2",
   "metadata": {},
   "source": [
    "## Exploracion de los datos"
   ]
  },
  {
   "cell_type": "code",
   "execution_count": 13,
   "id": "bf74c190-b979-4a45-a2ad-70c7a444baf9",
   "metadata": {},
   "outputs": [
    {
     "data": {
      "text/plain": [
       "(568454, 10)"
      ]
     },
     "execution_count": 13,
     "metadata": {},
     "output_type": "execute_result"
    }
   ],
   "source": [
    "# Revisamos conteos\n",
    "df_entrada.shape"
   ]
  },
  {
   "cell_type": "code",
   "execution_count": 116,
   "id": "1e76d8c1-9959-4569-b32f-8fcbab17968f",
   "metadata": {},
   "outputs": [
    {
     "data": {
      "text/html": [
       "<div>\n",
       "<style scoped>\n",
       "    .dataframe tbody tr th:only-of-type {\n",
       "        vertical-align: middle;\n",
       "    }\n",
       "\n",
       "    .dataframe tbody tr th {\n",
       "        vertical-align: top;\n",
       "    }\n",
       "\n",
       "    .dataframe thead th {\n",
       "        text-align: right;\n",
       "    }\n",
       "</style>\n",
       "<table border=\"1\" class=\"dataframe\">\n",
       "  <thead>\n",
       "    <tr style=\"text-align: right;\">\n",
       "      <th></th>\n",
       "      <th>Id</th>\n",
       "      <th>ProductId</th>\n",
       "      <th>UserId</th>\n",
       "      <th>ProfileName</th>\n",
       "      <th>HelpfulnessNumerator</th>\n",
       "      <th>HelpfulnessDenominator</th>\n",
       "      <th>Score</th>\n",
       "      <th>Time</th>\n",
       "      <th>Summary</th>\n",
       "      <th>Text</th>\n",
       "      <th>helpfulness</th>\n",
       "    </tr>\n",
       "  </thead>\n",
       "  <tbody>\n",
       "    <tr>\n",
       "      <th>0</th>\n",
       "      <td>1</td>\n",
       "      <td>B001E4KFG0</td>\n",
       "      <td>A3SGXH7AUHU8GW</td>\n",
       "      <td>delmartian</td>\n",
       "      <td>1.0</td>\n",
       "      <td>1.0</td>\n",
       "      <td>5</td>\n",
       "      <td>1303862400</td>\n",
       "      <td>Good Quality Dog Food</td>\n",
       "      <td>I have bought several of the Vitality canned d...</td>\n",
       "      <td>1.0</td>\n",
       "    </tr>\n",
       "    <tr>\n",
       "      <th>1</th>\n",
       "      <td>3</td>\n",
       "      <td>B000LQOCH0</td>\n",
       "      <td>ABXLMWJIXXAIN</td>\n",
       "      <td>Natalia Corres \"Natalia Corres\"</td>\n",
       "      <td>1.0</td>\n",
       "      <td>1.0</td>\n",
       "      <td>4</td>\n",
       "      <td>1219017600</td>\n",
       "      <td>\"Delight\" says it all</td>\n",
       "      <td>This is a confection that has been around a fe...</td>\n",
       "      <td>1.0</td>\n",
       "    </tr>\n",
       "    <tr>\n",
       "      <th>2</th>\n",
       "      <td>4</td>\n",
       "      <td>B000UA0QIQ</td>\n",
       "      <td>A395BORC6FGVXV</td>\n",
       "      <td>Karl</td>\n",
       "      <td>3.0</td>\n",
       "      <td>3.0</td>\n",
       "      <td>2</td>\n",
       "      <td>1307923200</td>\n",
       "      <td>Cough Medicine</td>\n",
       "      <td>If you are looking for the secret ingredient i...</td>\n",
       "      <td>1.0</td>\n",
       "    </tr>\n",
       "    <tr>\n",
       "      <th>3</th>\n",
       "      <td>9</td>\n",
       "      <td>B000E7L2R4</td>\n",
       "      <td>A1MZYO9TZK0BBI</td>\n",
       "      <td>R. James</td>\n",
       "      <td>1.0</td>\n",
       "      <td>1.0</td>\n",
       "      <td>5</td>\n",
       "      <td>1322006400</td>\n",
       "      <td>Yay Barley</td>\n",
       "      <td>Right now I'm mostly just sprouting this so my...</td>\n",
       "      <td>1.0</td>\n",
       "    </tr>\n",
       "    <tr>\n",
       "      <th>4</th>\n",
       "      <td>11</td>\n",
       "      <td>B0001PB9FE</td>\n",
       "      <td>A3HDKO7OW0QNK4</td>\n",
       "      <td>Canadian Fan</td>\n",
       "      <td>1.0</td>\n",
       "      <td>1.0</td>\n",
       "      <td>5</td>\n",
       "      <td>1107820800</td>\n",
       "      <td>The Best Hot Sauce in the World</td>\n",
       "      <td>I don't know if it's the cactus or the tequila...</td>\n",
       "      <td>1.0</td>\n",
       "    </tr>\n",
       "  </tbody>\n",
       "</table>\n",
       "</div>"
      ],
      "text/plain": [
       "   Id   ProductId          UserId                      ProfileName  \\\n",
       "0   1  B001E4KFG0  A3SGXH7AUHU8GW                       delmartian   \n",
       "1   3  B000LQOCH0   ABXLMWJIXXAIN  Natalia Corres \"Natalia Corres\"   \n",
       "2   4  B000UA0QIQ  A395BORC6FGVXV                             Karl   \n",
       "3   9  B000E7L2R4  A1MZYO9TZK0BBI                         R. James   \n",
       "4  11  B0001PB9FE  A3HDKO7OW0QNK4                     Canadian Fan   \n",
       "\n",
       "   HelpfulnessNumerator  HelpfulnessDenominator  Score        Time  \\\n",
       "0                   1.0                     1.0      5  1303862400   \n",
       "1                   1.0                     1.0      4  1219017600   \n",
       "2                   3.0                     3.0      2  1307923200   \n",
       "3                   1.0                     1.0      5  1322006400   \n",
       "4                   1.0                     1.0      5  1107820800   \n",
       "\n",
       "                           Summary  \\\n",
       "0            Good Quality Dog Food   \n",
       "1            \"Delight\" says it all   \n",
       "2                   Cough Medicine   \n",
       "3                       Yay Barley   \n",
       "4  The Best Hot Sauce in the World   \n",
       "\n",
       "                                                Text  helpfulness  \n",
       "0  I have bought several of the Vitality canned d...          1.0  \n",
       "1  This is a confection that has been around a fe...          1.0  \n",
       "2  If you are looking for the secret ingredient i...          1.0  \n",
       "3  Right now I'm mostly just sprouting this so my...          1.0  \n",
       "4  I don't know if it's the cactus or the tequila...          1.0  "
      ]
     },
     "execution_count": 116,
     "metadata": {},
     "output_type": "execute_result"
    }
   ],
   "source": [
    "#Revisamos primeros datos\n",
    "df_entrada.head()"
   ]
  },
  {
   "cell_type": "code",
   "execution_count": 117,
   "id": "f2ba7990-be4c-4e84-b0e8-6922b7e2bde6",
   "metadata": {},
   "outputs": [
    {
     "name": "stdout",
     "output_type": "stream",
     "text": [
      "<class 'pandas.core.frame.DataFrame'>\n",
      "RangeIndex: 264598 entries, 0 to 264597\n",
      "Data columns (total 11 columns):\n",
      " #   Column                  Non-Null Count   Dtype  \n",
      "---  ------                  --------------   -----  \n",
      " 0   Id                      264598 non-null  int64  \n",
      " 1   ProductId               264598 non-null  object \n",
      " 2   UserId                  264598 non-null  object \n",
      " 3   ProfileName             264598 non-null  object \n",
      " 4   HelpfulnessNumerator    264598 non-null  float64\n",
      " 5   HelpfulnessDenominator  264598 non-null  float64\n",
      " 6   Score                   264598 non-null  int64  \n",
      " 7   Time                    264598 non-null  int64  \n",
      " 8   Summary                 264598 non-null  object \n",
      " 9   Text                    264598 non-null  object \n",
      " 10  helpfulness             264598 non-null  float64\n",
      "dtypes: float64(3), int64(3), object(5)\n",
      "memory usage: 22.2+ MB\n"
     ]
    }
   ],
   "source": [
    "#Revisamos tipo de datos\n",
    "df_entrada.info()"
   ]
  },
  {
   "cell_type": "code",
   "execution_count": 17,
   "id": "8f69a489-bbc5-4f01-992a-c76b97801537",
   "metadata": {},
   "outputs": [],
   "source": [
    "#Reemplazar valores con 0 por nan\n",
    "df_entrada[\"HelpfulnessNumerator\"].replace(0, np.nan, inplace = True)\n",
    "df_entrada[\"HelpfulnessDenominator\"].replace(0, np.nan, inplace = True)"
   ]
  },
  {
   "cell_type": "code",
   "execution_count": 15,
   "id": "9dd729d5-dc8d-4132-9811-82d91dfc8a4a",
   "metadata": {},
   "outputs": [
    {
     "data": {
      "text/plain": [
       "0      303826\n",
       "1      116467\n",
       "2       53727\n",
       "3       29007\n",
       "4       16963\n",
       "        ...  \n",
       "193         1\n",
       "188         1\n",
       "179         1\n",
       "174         1\n",
       "491         1\n",
       "Name: HelpfulnessNumerator, Length: 231, dtype: int64"
      ]
     },
     "execution_count": 15,
     "metadata": {},
     "output_type": "execute_result"
    }
   ],
   "source": [
    "#Revisamos valores\n",
    "df_entrada['HelpfulnessNumerator'].value_counts()"
   ]
  },
  {
   "cell_type": "code",
   "execution_count": 16,
   "id": "ed99fae8-27f0-47eb-a503-a08b910c879a",
   "metadata": {},
   "outputs": [
    {
     "data": {
      "text/plain": [
       "0      270052\n",
       "1      112753\n",
       "2       61482\n",
       "3       34394\n",
       "4       22306\n",
       "        ...  \n",
       "240         1\n",
       "138         1\n",
       "132         1\n",
       "178         1\n",
       "181         1\n",
       "Name: HelpfulnessDenominator, Length: 234, dtype: int64"
      ]
     },
     "execution_count": 16,
     "metadata": {},
     "output_type": "execute_result"
    }
   ],
   "source": [
    "#Revisamos valores\n",
    "df_entrada['HelpfulnessDenominator'].value_counts()"
   ]
  },
  {
   "cell_type": "code",
   "execution_count": 11,
   "id": "33754d95-adb5-4e36-8b42-194e9bfdc567",
   "metadata": {},
   "outputs": [
    {
     "data": {
      "text/plain": [
       "Id                             0\n",
       "ProductId                      0\n",
       "UserId                         0\n",
       "ProfileName                   16\n",
       "HelpfulnessNumerator      303826\n",
       "HelpfulnessDenominator    270052\n",
       "Score                          0\n",
       "Time                           0\n",
       "Summary                       27\n",
       "Text                           0\n",
       "dtype: int64"
      ]
     },
     "metadata": {},
     "output_type": "display_data"
    }
   ],
   "source": [
    "#Revisamos datos faltantes por columna\n",
    "display(df_entrada.isnull().sum())"
   ]
  },
  {
   "cell_type": "markdown",
   "id": "2868d739-dd06-4e45-8fe3-e5d4ef4c0ee4",
   "metadata": {},
   "source": [
    "## Procesamiento de los datos"
   ]
  },
  {
   "cell_type": "code",
   "execution_count": 18,
   "id": "3e4be783-66ec-4f42-80ec-b7700d87c228",
   "metadata": {},
   "outputs": [],
   "source": [
    "# elimina las filas con NaN en alguna columna del dataframe\n",
    "df_entrada.dropna(axis=0, inplace=True)\n",
    "\n",
    "# reinicia el index, porque eliminamos  filas\n",
    "df_entrada.reset_index(drop=True, inplace=True)"
   ]
  },
  {
   "cell_type": "code",
   "execution_count": 19,
   "id": "be1e5eed-56d5-41b6-abcd-570e6c094748",
   "metadata": {},
   "outputs": [
    {
     "data": {
      "text/plain": [
       "(264598, 10)"
      ]
     },
     "execution_count": 19,
     "metadata": {},
     "output_type": "execute_result"
    }
   ],
   "source": [
    "df_entrada.shape"
   ]
  },
  {
   "cell_type": "code",
   "execution_count": 20,
   "id": "b2a7be6b-95b9-4757-bc3d-26ac5fa64461",
   "metadata": {},
   "outputs": [
    {
     "data": {
      "text/plain": [
       "5    164739\n",
       "4     33859\n",
       "1     31940\n",
       "3     19154\n",
       "2     14906\n",
       "Name: Score, dtype: int64"
      ]
     },
     "execution_count": 20,
     "metadata": {},
     "output_type": "execute_result"
    }
   ],
   "source": [
    "df_entrada['Score'].value_counts()"
   ]
  },
  {
   "cell_type": "code",
   "execution_count": 21,
   "id": "44348e3c-488f-4977-b889-e3165cb62738",
   "metadata": {},
   "outputs": [],
   "source": [
    "# Construimos indice de utilidad\n",
    "df_entrada[\"helpfulness\"]=df_entrada[\"HelpfulnessNumerator\"]/df_entrada[\"HelpfulnessDenominator\"]"
   ]
  },
  {
   "cell_type": "code",
   "execution_count": 118,
   "id": "d232e00d-eae1-4529-8359-f5a51b373b6a",
   "metadata": {},
   "outputs": [
    {
     "data": {
      "text/html": [
       "<div>\n",
       "<style scoped>\n",
       "    .dataframe tbody tr th:only-of-type {\n",
       "        vertical-align: middle;\n",
       "    }\n",
       "\n",
       "    .dataframe tbody tr th {\n",
       "        vertical-align: top;\n",
       "    }\n",
       "\n",
       "    .dataframe thead th {\n",
       "        text-align: right;\n",
       "    }\n",
       "</style>\n",
       "<table border=\"1\" class=\"dataframe\">\n",
       "  <thead>\n",
       "    <tr style=\"text-align: right;\">\n",
       "      <th></th>\n",
       "      <th>Id</th>\n",
       "      <th>ProductId</th>\n",
       "      <th>UserId</th>\n",
       "      <th>ProfileName</th>\n",
       "      <th>HelpfulnessNumerator</th>\n",
       "      <th>HelpfulnessDenominator</th>\n",
       "      <th>Score</th>\n",
       "      <th>Time</th>\n",
       "      <th>Summary</th>\n",
       "      <th>Text</th>\n",
       "      <th>helpfulness</th>\n",
       "    </tr>\n",
       "  </thead>\n",
       "  <tbody>\n",
       "    <tr>\n",
       "      <th>0</th>\n",
       "      <td>1</td>\n",
       "      <td>B001E4KFG0</td>\n",
       "      <td>A3SGXH7AUHU8GW</td>\n",
       "      <td>delmartian</td>\n",
       "      <td>1.0</td>\n",
       "      <td>1.0</td>\n",
       "      <td>5</td>\n",
       "      <td>1303862400</td>\n",
       "      <td>Good Quality Dog Food</td>\n",
       "      <td>I have bought several of the Vitality canned d...</td>\n",
       "      <td>1.0</td>\n",
       "    </tr>\n",
       "    <tr>\n",
       "      <th>1</th>\n",
       "      <td>3</td>\n",
       "      <td>B000LQOCH0</td>\n",
       "      <td>ABXLMWJIXXAIN</td>\n",
       "      <td>Natalia Corres \"Natalia Corres\"</td>\n",
       "      <td>1.0</td>\n",
       "      <td>1.0</td>\n",
       "      <td>4</td>\n",
       "      <td>1219017600</td>\n",
       "      <td>\"Delight\" says it all</td>\n",
       "      <td>This is a confection that has been around a fe...</td>\n",
       "      <td>1.0</td>\n",
       "    </tr>\n",
       "    <tr>\n",
       "      <th>2</th>\n",
       "      <td>4</td>\n",
       "      <td>B000UA0QIQ</td>\n",
       "      <td>A395BORC6FGVXV</td>\n",
       "      <td>Karl</td>\n",
       "      <td>3.0</td>\n",
       "      <td>3.0</td>\n",
       "      <td>2</td>\n",
       "      <td>1307923200</td>\n",
       "      <td>Cough Medicine</td>\n",
       "      <td>If you are looking for the secret ingredient i...</td>\n",
       "      <td>1.0</td>\n",
       "    </tr>\n",
       "    <tr>\n",
       "      <th>3</th>\n",
       "      <td>9</td>\n",
       "      <td>B000E7L2R4</td>\n",
       "      <td>A1MZYO9TZK0BBI</td>\n",
       "      <td>R. James</td>\n",
       "      <td>1.0</td>\n",
       "      <td>1.0</td>\n",
       "      <td>5</td>\n",
       "      <td>1322006400</td>\n",
       "      <td>Yay Barley</td>\n",
       "      <td>Right now I'm mostly just sprouting this so my...</td>\n",
       "      <td>1.0</td>\n",
       "    </tr>\n",
       "    <tr>\n",
       "      <th>4</th>\n",
       "      <td>11</td>\n",
       "      <td>B0001PB9FE</td>\n",
       "      <td>A3HDKO7OW0QNK4</td>\n",
       "      <td>Canadian Fan</td>\n",
       "      <td>1.0</td>\n",
       "      <td>1.0</td>\n",
       "      <td>5</td>\n",
       "      <td>1107820800</td>\n",
       "      <td>The Best Hot Sauce in the World</td>\n",
       "      <td>I don't know if it's the cactus or the tequila...</td>\n",
       "      <td>1.0</td>\n",
       "    </tr>\n",
       "  </tbody>\n",
       "</table>\n",
       "</div>"
      ],
      "text/plain": [
       "   Id   ProductId          UserId                      ProfileName  \\\n",
       "0   1  B001E4KFG0  A3SGXH7AUHU8GW                       delmartian   \n",
       "1   3  B000LQOCH0   ABXLMWJIXXAIN  Natalia Corres \"Natalia Corres\"   \n",
       "2   4  B000UA0QIQ  A395BORC6FGVXV                             Karl   \n",
       "3   9  B000E7L2R4  A1MZYO9TZK0BBI                         R. James   \n",
       "4  11  B0001PB9FE  A3HDKO7OW0QNK4                     Canadian Fan   \n",
       "\n",
       "   HelpfulnessNumerator  HelpfulnessDenominator  Score        Time  \\\n",
       "0                   1.0                     1.0      5  1303862400   \n",
       "1                   1.0                     1.0      4  1219017600   \n",
       "2                   3.0                     3.0      2  1307923200   \n",
       "3                   1.0                     1.0      5  1322006400   \n",
       "4                   1.0                     1.0      5  1107820800   \n",
       "\n",
       "                           Summary  \\\n",
       "0            Good Quality Dog Food   \n",
       "1            \"Delight\" says it all   \n",
       "2                   Cough Medicine   \n",
       "3                       Yay Barley   \n",
       "4  The Best Hot Sauce in the World   \n",
       "\n",
       "                                                Text  helpfulness  \n",
       "0  I have bought several of the Vitality canned d...          1.0  \n",
       "1  This is a confection that has been around a fe...          1.0  \n",
       "2  If you are looking for the secret ingredient i...          1.0  \n",
       "3  Right now I'm mostly just sprouting this so my...          1.0  \n",
       "4  I don't know if it's the cactus or the tequila...          1.0  "
      ]
     },
     "execution_count": 118,
     "metadata": {},
     "output_type": "execute_result"
    }
   ],
   "source": [
    "df_entrada.head()"
   ]
  },
  {
   "cell_type": "code",
   "execution_count": 24,
   "id": "1e494408-df33-4673-b22d-351a18534553",
   "metadata": {},
   "outputs": [
    {
     "data": {
      "text/plain": [
       "1.000000    183306\n",
       "0.500000     21623\n",
       "0.666667     10513\n",
       "0.750000      6364\n",
       "0.333333      5365\n",
       "             ...  \n",
       "0.873418         1\n",
       "0.406250         1\n",
       "0.973214         1\n",
       "0.586207         1\n",
       "0.265625         1\n",
       "Name: helpfulness, Length: 950, dtype: int64"
      ]
     },
     "execution_count": 24,
     "metadata": {},
     "output_type": "execute_result"
    }
   ],
   "source": [
    "df_entrada['helpfulness'].value_counts()"
   ]
  },
  {
   "cell_type": "code",
   "execution_count": 32,
   "id": "3a6632d8-a3df-48c1-b4ce-0354eb825ecd",
   "metadata": {},
   "outputs": [],
   "source": [
    "# Filtramos indices de utlidad mayores a 0.9\n",
    "df_entrada2 =df_entrada[ df_entrada['helpfulness']>0.9]"
   ]
  },
  {
   "cell_type": "code",
   "execution_count": 33,
   "id": "245675bb-5227-472d-89df-8bb3e86aa2e4",
   "metadata": {},
   "outputs": [
    {
     "data": {
      "text/plain": [
       "(188733, 11)"
      ]
     },
     "execution_count": 33,
     "metadata": {},
     "output_type": "execute_result"
    }
   ],
   "source": [
    "# Revisamos nueva cantidad de registros\n",
    "df_entrada2.shape"
   ]
  },
  {
   "cell_type": "code",
   "execution_count": 34,
   "id": "5abbc1c3-5486-4e7f-b7d2-27405d1c5a1f",
   "metadata": {},
   "outputs": [
    {
     "data": {
      "text/plain": [
       "1.000000    183306\n",
       "0.909091       675\n",
       "0.916667       476\n",
       "0.923077       463\n",
       "0.928571       288\n",
       "             ...  \n",
       "0.971963         1\n",
       "0.991968         1\n",
       "0.950980         1\n",
       "0.989474         1\n",
       "0.988889         1\n",
       "Name: helpfulness, Length: 315, dtype: int64"
      ]
     },
     "execution_count": 34,
     "metadata": {},
     "output_type": "execute_result"
    }
   ],
   "source": [
    "df_entrada2['helpfulness'].value_counts()"
   ]
  },
  {
   "cell_type": "code",
   "execution_count": 35,
   "id": "40196b0b-641b-4c4d-81fb-4a8fc14ee4ad",
   "metadata": {},
   "outputs": [],
   "source": [
    "#Filtramos scores diferentes de 3 al ser neutro ya que encontramos valores entre 1 y 5.\n",
    "df_entrada2 =df_entrada2[ df_entrada2['Score']!= 3]"
   ]
  },
  {
   "cell_type": "code",
   "execution_count": 36,
   "id": "e57187fb-5145-4927-96a8-28bf11de3e61",
   "metadata": {},
   "outputs": [
    {
     "data": {
      "text/plain": [
       "(178475, 11)"
      ]
     },
     "execution_count": 36,
     "metadata": {},
     "output_type": "execute_result"
    }
   ],
   "source": [
    "df_entrada2.shape"
   ]
  },
  {
   "cell_type": "code",
   "execution_count": 37,
   "id": "8b3aa91b-784f-4ff2-aa7f-365df6e2a0a6",
   "metadata": {},
   "outputs": [],
   "source": [
    "#Creamos nueva etiqueta a partir de score, clasificando 1 y 2 como 0 (mala calificacion) y 4 y 5 como 1 (Buena calificacion)\n",
    "df_entrada2['Score2'] = df_entrada2['Score'].apply(lambda x: 1 if x > 3  else 0)"
   ]
  },
  {
   "cell_type": "code",
   "execution_count": 38,
   "id": "fd7da1c7-6c7a-42cc-9bab-af0b73cbae9d",
   "metadata": {},
   "outputs": [
    {
     "data": {
      "text/plain": [
       "1    161209\n",
       "0     17266\n",
       "Name: Score2, dtype: int64"
      ]
     },
     "execution_count": 38,
     "metadata": {},
     "output_type": "execute_result"
    }
   ],
   "source": [
    "df_entrada2['Score2'].value_counts()"
   ]
  },
  {
   "cell_type": "code",
   "execution_count": 39,
   "id": "a766e33c-f9b3-4347-a427-c8d8f2ea81da",
   "metadata": {},
   "outputs": [
    {
     "name": "stdout",
     "output_type": "stream",
     "text": [
      "<class 'pandas.core.frame.DataFrame'>\n",
      "Int64Index: 178475 entries, 0 to 264597\n",
      "Data columns (total 12 columns):\n",
      " #   Column                  Non-Null Count   Dtype  \n",
      "---  ------                  --------------   -----  \n",
      " 0   Id                      178475 non-null  int64  \n",
      " 1   ProductId               178475 non-null  object \n",
      " 2   UserId                  178475 non-null  object \n",
      " 3   ProfileName             178475 non-null  object \n",
      " 4   HelpfulnessNumerator    178475 non-null  float64\n",
      " 5   HelpfulnessDenominator  178475 non-null  float64\n",
      " 6   Score                   178475 non-null  int64  \n",
      " 7   Time                    178475 non-null  int64  \n",
      " 8   Summary                 178475 non-null  object \n",
      " 9   Text                    178475 non-null  object \n",
      " 10  helpfulness             178475 non-null  float64\n",
      " 11  Score2                  178475 non-null  int64  \n",
      "dtypes: float64(3), int64(4), object(5)\n",
      "memory usage: 17.7+ MB\n"
     ]
    }
   ],
   "source": [
    "df_entrada2.info()"
   ]
  },
  {
   "cell_type": "code",
   "execution_count": 40,
   "id": "5aa63b36-3f5a-4022-8e3b-592b0b3a9ad2",
   "metadata": {},
   "outputs": [],
   "source": [
    "#Eliminamos registros repetidos\n",
    "final=df_entrada2.drop_duplicates(subset={\"UserId\",\"ProfileName\",\"Time\",\"Text\"}, keep='first', inplace=False)"
   ]
  },
  {
   "cell_type": "code",
   "execution_count": 41,
   "id": "737db9bb-38fc-455d-88e6-fb53cc365ebd",
   "metadata": {},
   "outputs": [
    {
     "data": {
      "text/plain": [
       "(128175, 12)"
      ]
     },
     "execution_count": 41,
     "metadata": {},
     "output_type": "execute_result"
    }
   ],
   "source": [
    "final.shape"
   ]
  },
  {
   "cell_type": "code",
   "execution_count": 43,
   "id": "9d47c6ef-ec26-4001-b679-fbd4334437bd",
   "metadata": {},
   "outputs": [
    {
     "data": {
      "text/plain": [
       "1    115362\n",
       "0     12813\n",
       "Name: Score2, dtype: int64"
      ]
     },
     "execution_count": 43,
     "metadata": {},
     "output_type": "execute_result"
    }
   ],
   "source": [
    "final['Score2'].value_counts()"
   ]
  },
  {
   "cell_type": "markdown",
   "id": "989cf800-99a7-495b-811a-ea6f99dd6a9f",
   "metadata": {},
   "source": [
    "### Preprocesamiento de texto"
   ]
  },
  {
   "cell_type": "code",
   "execution_count": 52,
   "id": "140d78f3-0d01-4395-9239-cd8112391a7e",
   "metadata": {},
   "outputs": [
    {
     "name": "stdout",
     "output_type": "stream",
     "text": [
      "179\n",
      "178\n"
     ]
    }
   ],
   "source": [
    "# Cargamos palabras de stop\n",
    "stop = set(stopwords.words('english')) #set of stopwords\n",
    "print(len(stop))\n",
    "stop.remove('not')\n",
    "print(len(stop))"
   ]
  },
  {
   "cell_type": "code",
   "execution_count": 53,
   "id": "a213e9e0-1d40-41fe-8005-e5441daaab26",
   "metadata": {},
   "outputs": [],
   "source": [
    "stop = set(stopwords.words('english')) \n",
    "stop.remove('not')\n",
    "sno = nltk.stem.SnowballStemmer('english') \n",
    "\n",
    "# Funcion para limpiar texto\n",
    "def cleanhtml(sentence): #function to clean the word of any html-tags\n",
    "    cleanr = re.compile('<.*?>')\n",
    "    cleantext = re.sub(cleanr, ' ', sentence)\n",
    "    return cleantext\n",
    "\n",
    "# Funcion para limpiar texto\n",
    "def cleanpunc(sentence): #function to clean the word of any punctuation or special characters\n",
    "    cleaned = re.sub(r'[?|!|\\'|\"|#]',r'',sentence)\n",
    "    cleaned = re.sub(r'[.|,|)|(|\\|/]',r' ',cleaned)\n",
    "    return  cleaned"
   ]
  },
  {
   "cell_type": "code",
   "execution_count": 54,
   "id": "73a3ca06-6123-4be3-909d-e8f6ba6a1bd6",
   "metadata": {},
   "outputs": [],
   "source": [
    "#Correr funciones de limpieza\n",
    "i=0\n",
    "str1=' '\n",
    "final_string=[]\n",
    "all_positive_words=[] # store words from +ve reviews here\n",
    "all_negative_words=[] # store words from -ve reviews here.\n",
    "s=''\n",
    "for sent in final['Text'].values:\n",
    "    filtered_sentence=[]\n",
    "    #print(sent);\n",
    "    sent=cleanhtml(sent) # remove HTMl tags\n",
    "    for w in sent.split():\n",
    "        for cleaned_words in cleanpunc(w).split():\n",
    "            if((cleaned_words.isalpha()) & (len(cleaned_words)>2)):    \n",
    "                if(cleaned_words.lower() not in stop):\n",
    "                    s=(sno.stem(cleaned_words.lower())).encode('utf8')\n",
    "                    filtered_sentence.append(s)\n",
    "                    if (final['Score2'].values)[i] == 1: #'positivo': \n",
    "                        all_positive_words.append(s)    #lista palabras que describen criticas positivas\n",
    "                    if(final['Score2'].values)[i] == 0:  #'negativo':\n",
    "                        all_negative_words.append(s) #lista palabras que describen criticas positivas\n",
    "                else:\n",
    "                    continue\n",
    "            else:\n",
    "                continue \n",
    "    \n",
    "    str1 = b\" \".join(filtered_sentence) #final string of cleaned words\n",
    "    #print(\"***********************************************************************\")\n",
    "    \n",
    "    final_string.append(str1)\n",
    "    i+=1"
   ]
  },
  {
   "cell_type": "code",
   "execution_count": 55,
   "id": "ec46fb51-86d6-425c-b59c-c18cca574008",
   "metadata": {},
   "outputs": [],
   "source": [
    "final['CleanedText']=final_string #adding a column of CleanedText which displays the data after pre-processing of the review "
   ]
  },
  {
   "cell_type": "code",
   "execution_count": 56,
   "id": "440a4f24-af78-4a38-bf57-a3fd25a8d4ee",
   "metadata": {},
   "outputs": [
    {
     "data": {
      "text/plain": [
       "1    115362\n",
       "0     12813\n",
       "Name: Score2, dtype: int64"
      ]
     },
     "execution_count": 56,
     "metadata": {},
     "output_type": "execute_result"
    }
   ],
   "source": [
    "final['Score2'].value_counts()"
   ]
  },
  {
   "cell_type": "code",
   "execution_count": 57,
   "id": "1defb854-add6-4a88-aa47-7acb33f1ef18",
   "metadata": {},
   "outputs": [
    {
     "data": {
      "text/html": [
       "<div>\n",
       "<style scoped>\n",
       "    .dataframe tbody tr th:only-of-type {\n",
       "        vertical-align: middle;\n",
       "    }\n",
       "\n",
       "    .dataframe tbody tr th {\n",
       "        vertical-align: top;\n",
       "    }\n",
       "\n",
       "    .dataframe thead th {\n",
       "        text-align: right;\n",
       "    }\n",
       "</style>\n",
       "<table border=\"1\" class=\"dataframe\">\n",
       "  <thead>\n",
       "    <tr style=\"text-align: right;\">\n",
       "      <th></th>\n",
       "      <th>Id</th>\n",
       "      <th>ProductId</th>\n",
       "      <th>UserId</th>\n",
       "      <th>ProfileName</th>\n",
       "      <th>HelpfulnessNumerator</th>\n",
       "      <th>HelpfulnessDenominator</th>\n",
       "      <th>Score</th>\n",
       "      <th>Time</th>\n",
       "      <th>Summary</th>\n",
       "      <th>Text</th>\n",
       "      <th>helpfulness</th>\n",
       "      <th>Score2</th>\n",
       "      <th>CleanedText</th>\n",
       "    </tr>\n",
       "  </thead>\n",
       "  <tbody>\n",
       "    <tr>\n",
       "      <th>0</th>\n",
       "      <td>1</td>\n",
       "      <td>B001E4KFG0</td>\n",
       "      <td>A3SGXH7AUHU8GW</td>\n",
       "      <td>delmartian</td>\n",
       "      <td>1.0</td>\n",
       "      <td>1.0</td>\n",
       "      <td>5</td>\n",
       "      <td>1303862400</td>\n",
       "      <td>Good Quality Dog Food</td>\n",
       "      <td>I have bought several of the Vitality canned d...</td>\n",
       "      <td>1.0</td>\n",
       "      <td>1</td>\n",
       "      <td>b'bought sever vital can dog food product foun...</td>\n",
       "    </tr>\n",
       "    <tr>\n",
       "      <th>1</th>\n",
       "      <td>3</td>\n",
       "      <td>B000LQOCH0</td>\n",
       "      <td>ABXLMWJIXXAIN</td>\n",
       "      <td>Natalia Corres \"Natalia Corres\"</td>\n",
       "      <td>1.0</td>\n",
       "      <td>1.0</td>\n",
       "      <td>4</td>\n",
       "      <td>1219017600</td>\n",
       "      <td>\"Delight\" says it all</td>\n",
       "      <td>This is a confection that has been around a fe...</td>\n",
       "      <td>1.0</td>\n",
       "      <td>1</td>\n",
       "      <td>b'confect around centuri light pillowi citrus ...</td>\n",
       "    </tr>\n",
       "    <tr>\n",
       "      <th>2</th>\n",
       "      <td>4</td>\n",
       "      <td>B000UA0QIQ</td>\n",
       "      <td>A395BORC6FGVXV</td>\n",
       "      <td>Karl</td>\n",
       "      <td>3.0</td>\n",
       "      <td>3.0</td>\n",
       "      <td>2</td>\n",
       "      <td>1307923200</td>\n",
       "      <td>Cough Medicine</td>\n",
       "      <td>If you are looking for the secret ingredient i...</td>\n",
       "      <td>1.0</td>\n",
       "      <td>0</td>\n",
       "      <td>b'look secret ingredi robitussin believ found ...</td>\n",
       "    </tr>\n",
       "    <tr>\n",
       "      <th>3</th>\n",
       "      <td>9</td>\n",
       "      <td>B000E7L2R4</td>\n",
       "      <td>A1MZYO9TZK0BBI</td>\n",
       "      <td>R. James</td>\n",
       "      <td>1.0</td>\n",
       "      <td>1.0</td>\n",
       "      <td>5</td>\n",
       "      <td>1322006400</td>\n",
       "      <td>Yay Barley</td>\n",
       "      <td>Right now I'm mostly just sprouting this so my...</td>\n",
       "      <td>1.0</td>\n",
       "      <td>1</td>\n",
       "      <td>b'right most sprout cat eat grass love rotat a...</td>\n",
       "    </tr>\n",
       "    <tr>\n",
       "      <th>4</th>\n",
       "      <td>11</td>\n",
       "      <td>B0001PB9FE</td>\n",
       "      <td>A3HDKO7OW0QNK4</td>\n",
       "      <td>Canadian Fan</td>\n",
       "      <td>1.0</td>\n",
       "      <td>1.0</td>\n",
       "      <td>5</td>\n",
       "      <td>1107820800</td>\n",
       "      <td>The Best Hot Sauce in the World</td>\n",
       "      <td>I don't know if it's the cactus or the tequila...</td>\n",
       "      <td>1.0</td>\n",
       "      <td>1</td>\n",
       "      <td>b'dont know cactus tequila uniqu combin ingred...</td>\n",
       "    </tr>\n",
       "  </tbody>\n",
       "</table>\n",
       "</div>"
      ],
      "text/plain": [
       "   Id   ProductId          UserId                      ProfileName  \\\n",
       "0   1  B001E4KFG0  A3SGXH7AUHU8GW                       delmartian   \n",
       "1   3  B000LQOCH0   ABXLMWJIXXAIN  Natalia Corres \"Natalia Corres\"   \n",
       "2   4  B000UA0QIQ  A395BORC6FGVXV                             Karl   \n",
       "3   9  B000E7L2R4  A1MZYO9TZK0BBI                         R. James   \n",
       "4  11  B0001PB9FE  A3HDKO7OW0QNK4                     Canadian Fan   \n",
       "\n",
       "   HelpfulnessNumerator  HelpfulnessDenominator  Score        Time  \\\n",
       "0                   1.0                     1.0      5  1303862400   \n",
       "1                   1.0                     1.0      4  1219017600   \n",
       "2                   3.0                     3.0      2  1307923200   \n",
       "3                   1.0                     1.0      5  1322006400   \n",
       "4                   1.0                     1.0      5  1107820800   \n",
       "\n",
       "                           Summary  \\\n",
       "0            Good Quality Dog Food   \n",
       "1            \"Delight\" says it all   \n",
       "2                   Cough Medicine   \n",
       "3                       Yay Barley   \n",
       "4  The Best Hot Sauce in the World   \n",
       "\n",
       "                                                Text  helpfulness  Score2  \\\n",
       "0  I have bought several of the Vitality canned d...          1.0       1   \n",
       "1  This is a confection that has been around a fe...          1.0       1   \n",
       "2  If you are looking for the secret ingredient i...          1.0       0   \n",
       "3  Right now I'm mostly just sprouting this so my...          1.0       1   \n",
       "4  I don't know if it's the cactus or the tequila...          1.0       1   \n",
       "\n",
       "                                         CleanedText  \n",
       "0  b'bought sever vital can dog food product foun...  \n",
       "1  b'confect around centuri light pillowi citrus ...  \n",
       "2  b'look secret ingredi robitussin believ found ...  \n",
       "3  b'right most sprout cat eat grass love rotat a...  \n",
       "4  b'dont know cactus tequila uniqu combin ingred...  "
      ]
     },
     "execution_count": 57,
     "metadata": {},
     "output_type": "execute_result"
    }
   ],
   "source": [
    "final.head()"
   ]
  },
  {
   "cell_type": "markdown",
   "id": "bb0a5bc8-efdf-4e5d-a1ac-105904e2709b",
   "metadata": {},
   "source": [
    "Balanceo de datos"
   ]
  },
  {
   "cell_type": "code",
   "execution_count": 89,
   "id": "abb85226-1032-4afc-9b01-4d1bdc965242",
   "metadata": {},
   "outputs": [],
   "source": [
    "from sklearn.utils import resample\n",
    "# Separar los scores\n",
    "df_mayoria = final[final.Score2==1]\n",
    "df_minoria = final[final.Score2==0]\n",
    " "
   ]
  },
  {
   "cell_type": "code",
   "execution_count": 90,
   "id": "709c8680-67d9-41de-83d4-ab3a783e93d1",
   "metadata": {},
   "outputs": [
    {
     "data": {
      "text/plain": [
       "0    115362\n",
       "1    115362\n",
       "Name: Score2, dtype: int64"
      ]
     },
     "execution_count": 90,
     "metadata": {},
     "output_type": "execute_result"
    }
   ],
   "source": [
    "# Aumentar la clase con minoria de registros\n",
    "df_minoria_aumentada = resample(df_minoria, \n",
    "                                 replace=True,     \n",
    "                                 n_samples=115362,    # muestras para igualar clase mayoritaria\n",
    "                                 random_state=123)\n",
    " \n",
    "# Combinar\n",
    "final = pd.concat([df_mayoria, df_minoria_aumentada])\n",
    " \n",
    "# Nuevo Conteo\n",
    "final.Score2.value_counts()\n"
   ]
  },
  {
   "cell_type": "code",
   "execution_count": 91,
   "id": "fe842430-39db-408a-bd44-082cf805daf8",
   "metadata": {},
   "outputs": [
    {
     "data": {
      "text/plain": [
       "(230724, 13)"
      ]
     },
     "execution_count": 91,
     "metadata": {},
     "output_type": "execute_result"
    }
   ],
   "source": [
    "final.shape"
   ]
  },
  {
   "cell_type": "markdown",
   "id": "1e53a6e2-f7bc-462f-9ca5-47c50ce34969",
   "metadata": {},
   "source": [
    "## MODELAMIENTO"
   ]
  },
  {
   "cell_type": "code",
   "execution_count": 93,
   "id": "2b5822cd-f374-4811-8fa7-4ec248e2838a",
   "metadata": {},
   "outputs": [],
   "source": [
    "X = final['Text']\n",
    "Y = np.array(final['Score2'])"
   ]
  },
  {
   "cell_type": "code",
   "execution_count": 94,
   "id": "c642c021-8103-481d-ac91-847c7f29a25a",
   "metadata": {},
   "outputs": [],
   "source": [
    "X_train, X_test_df, Y_train, Y_test = train_test_split(X, Y, test_size=0.2, random_state = 123)\n",
    "X_train_df, X_val_df, Y_train, Y_val = train_test_split(X_train, Y_train, test_size = 0.2, random_state = 123)"
   ]
  },
  {
   "cell_type": "code",
   "execution_count": 95,
   "id": "7d2d08a6-47dd-47d1-ab94-d02181241800",
   "metadata": {},
   "outputs": [
    {
     "name": "stdout",
     "output_type": "stream",
     "text": [
      "train size -> (147663,) (147663,)\n",
      "test size -> (46145,) (46145,)\n",
      "validation size -> (36916,) (36916,)\n"
     ]
    }
   ],
   "source": [
    "print('train size ->', X_train_df.shape, Y_train.shape)\n",
    "print('test size ->', X_test_df.shape, Y_test.shape)\n",
    "print('validation size ->', X_val_df.shape, Y_val.shape)"
   ]
  },
  {
   "cell_type": "code",
   "execution_count": 97,
   "id": "2fdec6f6-fa59-42c4-8ce2-b33eee9d9e9c",
   "metadata": {},
   "outputs": [
    {
     "name": "stdout",
     "output_type": "stream",
     "text": [
      "(147663, 59841) (36916, 59841) (46145, 59841)\n"
     ]
    }
   ],
   "source": [
    "vectorizer = TfidfVectorizer()\n",
    "X_train = vectorizer.fit_transform(X_train_df)\n",
    "X_val = vectorizer.transform(X_val_df)\n",
    "X_test = vectorizer.transform(X_test_df)\n",
    "print(X_train.shape, X_val.shape, X_test.shape)"
   ]
  },
  {
   "cell_type": "markdown",
   "id": "15172468-521f-4eec-bfe3-d80c4ff245d8",
   "metadata": {},
   "source": [
    "## Regresion logistica"
   ]
  },
  {
   "cell_type": "code",
   "execution_count": 98,
   "id": "05dab624-6e49-42a2-80b4-a5d53bdd3a2c",
   "metadata": {},
   "outputs": [
    {
     "name": "stdout",
     "output_type": "stream",
     "text": [
      "Best estimators -> LogisticRegression(C=10000)\n",
      "SCore -> 0.9701165855183811\n"
     ]
    }
   ],
   "source": [
    "from sklearn.model_selection import GridSearchCV\n",
    "from sklearn.linear_model import LogisticRegression\n",
    "\n",
    "\n",
    "tuned_parameters = [{'C' : [10**-4, 10**-2, 10**0, 10**2, 10**4]}]\n",
    "\n",
    "# Using GridSearchCV\n",
    "model = GridSearchCV(LogisticRegression(), tuned_parameters, scoring='f1', cv=5)\n",
    "model.fit(X_train, Y_train)\n",
    "\n",
    "print('Best estimators ->', model.best_estimator_)\n",
    "print('SCore ->', model.score(X_test, Y_test))\n"
   ]
  },
  {
   "cell_type": "code",
   "execution_count": 101,
   "id": "1b4e19a2-7eea-4c8d-88ac-028ddde99057",
   "metadata": {},
   "outputs": [
    {
     "name": "stdout",
     "output_type": "stream",
     "text": [
      "----Scores------\n",
      "train score -> 0.9453553022761287\n",
      "test score -> 0.934879185177159\n",
      "validation score -> 0.9334976703868242\n"
     ]
    },
    {
     "data": {
      "text/plain": [
       "['LR_model.sav']"
      ]
     },
     "execution_count": 101,
     "metadata": {},
     "output_type": "execute_result"
    }
   ],
   "source": [
    "from sklearn.linear_model import LogisticRegression\n",
    "import joblib\n",
    "\n",
    "clf = LogisticRegression(random_state = 0, solver = 'liblinear').fit(X_train, Y_train)\n",
    "y_val_predict = clf.predict(X_val)\n",
    "y_test_predict = clf.predict(X_test)\n",
    "\n",
    "print(\"----Scores------\")\n",
    "print(\"train score ->\", clf.score(X_train, Y_train))\n",
    "print(\"test score ->\", clf.score(X_test, Y_test))\n",
    "print(\"validation score ->\", clf.score(X_val, Y_val))\n",
    "\n",
    "\n",
    "filename = 'LR_model.sav'\n",
    "joblib.dump(clf, filename)"
   ]
  },
  {
   "cell_type": "markdown",
   "id": "a59fa2da-fd67-4990-ab2e-2d375bd0756e",
   "metadata": {},
   "source": [
    "## Naive bayes"
   ]
  },
  {
   "cell_type": "code",
   "execution_count": 99,
   "id": "c668cbb9-d626-46ec-be81-d4bc4fc8849b",
   "metadata": {},
   "outputs": [
    {
     "name": "stdout",
     "output_type": "stream",
     "text": [
      "----Scores------\n",
      "train score -> 0.9124763820320595\n",
      "test score -> 0.903413154187886\n",
      "validation score -> 0.9037544696066746\n"
     ]
    }
   ],
   "source": [
    "from sklearn.naive_bayes import GaussianNB, MultinomialNB\n",
    "from sklearn.metrics import accuracy_score\n",
    "alpha = [10 ** x for x in range(-5, 1)]\n",
    "\n",
    "\n",
    "clf = MultinomialNB()\n",
    "clf.fit(X_train, Y_train)\n",
    "y_train_predict = clf.predict(X_train)\n",
    "y_val_predict = clf.predict(X_val)\n",
    "y_test_predict = clf.predict(X_test)\n",
    "\n",
    "print(\"----Scores------\")\n",
    "print(\"train score ->\", accuracy_score(Y_train, y_train_predict))\n",
    "print(\"test score ->\", accuracy_score(Y_test, y_test_predict))\n",
    "print(\"validation score ->\", accuracy_score(Y_val, y_val_predict))"
   ]
  },
  {
   "cell_type": "markdown",
   "id": "3f15faf9-2206-4be7-bac1-bc6cdcac948f",
   "metadata": {},
   "source": [
    "## SVM"
   ]
  },
  {
   "cell_type": "code",
   "execution_count": 102,
   "id": "8ab76184-3cbf-4c15-a273-1833ee98e7df",
   "metadata": {},
   "outputs": [
    {
     "name": "stdout",
     "output_type": "stream",
     "text": [
      "for C = 1e-05\n",
      "Log loss: 0.1545023843056403\n",
      "for C = 0.0001\n",
      "Log loss: 0.21606190534842795\n",
      "for C = 0.001\n",
      "Log loss: 0.30149351834327764\n",
      "for C = 0.01\n",
      "Log loss: 0.39525664293275464\n",
      "for C = 0.1\n",
      "Log loss: 0.3954350639297978\n",
      "for C = 1\n",
      "Log loss: 0.3954350639294689\n",
      "for C = 10\n",
      "Log loss: 0.39543506392687866\n",
      "for C = 100\n",
      "Log loss: 0.39543506392888544\n"
     ]
    },
    {
     "data": {
      "image/png": "[encoded data removed]",
      "text/plain": [
       "<Figure size 432x288 with 1 Axes>"
      ]
     },
     "metadata": {
      "needs_background": "light"
     },
     "output_type": "display_data"
    }
   ],
   "source": [
    "from sklearn.svm import SVC\n",
    "from sklearn.linear_model import SGDClassifier\n",
    "from sklearn.calibration import CalibratedClassifierCV\n",
    "from sklearn.metrics import log_loss\n",
    "\n",
    "alpha = [10 ** x for x in range(-5, 3)]\n",
    "cv_log_error_array = []\n",
    "\n",
    "for i in alpha:\n",
    "    print(\"for C =\", i)\n",
    "    clf = SGDClassifier(class_weight='balanced', alpha=i, penalty='l2', loss='hinge', random_state=42)\n",
    "    clf.fit(X_train, Y_train)\n",
    "    sig_clf = CalibratedClassifierCV(clf, method='sigmoid')\n",
    "    sig_clf.fit(X_train, Y_train)\n",
    "    sig_clf_probs = sig_clf.predict_proba(X_val)\n",
    "    cv_log_error_array.append(log_loss(Y_val, sig_clf_probs, labels=clf.classes_, eps=1e-15))\n",
    "    print(\"Log loss:\", log_loss(Y_val, sig_clf_probs))\n",
    "    \n",
    "fig, ax = plt.subplots()\n",
    "ax.plot(alpha, cv_log_error_array, c='g')\n",
    "for i, txt in enumerate(np.round(cv_log_error_array, 3)):\n",
    "    ax.annotate((alpha[i], str(txt)), (alpha[i], cv_log_error_array[i]))\n",
    "plt.grid()\n",
    "plt.title(\"Cross validation Error for each alpha\")\n",
    "plt.xlabel(\"Alpha i's\")\n",
    "plt.ylabel(\"Error measure\")\n",
    "plt.show()\n"
   ]
  },
  {
   "cell_type": "code",
   "execution_count": 103,
   "id": "edb4ecbe-5321-46b3-a929-960c54682984",
   "metadata": {},
   "outputs": [
    {
     "name": "stdout",
     "output_type": "stream",
     "text": [
      "For best alpha : 1e-05 The train log-loss is 0.12625179238715578\n",
      "For best alpha : 1e-05 The cross validation log-loss is 0.1545023843056403\n",
      "for best alpha: 1e-05 The test log-loss is 0.15530398115351385\n",
      "----------------------------------------\n",
      "Train accuracy -> 0.9593804812309109\n",
      "Test accuracy -> 0.9464514031856106\n",
      "Validation accuracy -> 0.9453895329938238\n"
     ]
    }
   ],
   "source": [
    "best_alpha = np.argmin(cv_log_error_array)\n",
    "clf = SGDClassifier(class_weight='balanced', alpha=alpha[best_alpha], penalty='l2', loss='hinge', random_state=42)\n",
    "clf.fit(X_train, Y_train)\n",
    "sig_clf = CalibratedClassifierCV(clf, method=\"sigmoid\")\n",
    "sig_clf.fit(X_train, Y_train)\n",
    "\n",
    "y_pred = sig_clf.predict_proba(X_train)\n",
    "print(\"For best alpha :\", alpha[best_alpha], \"The train log-loss is\", log_loss(Y_train, y_pred, labels=clf.classes_, eps=1e-15))\n",
    "y_pred_cv = sig_clf.predict_proba(X_val)\n",
    "print(\"For best alpha :\", alpha[best_alpha], \"The cross validation log-loss is\", log_loss(Y_val, y_pred_cv, labels=clf.classes_, eps=1e-15))\n",
    "y_pred_test = sig_clf.predict_proba(X_test)\n",
    "print(\"for best alpha:\", alpha[best_alpha], \"The test log-loss is\", log_loss(Y_test, y_pred_test, labels=clf.classes_, eps=1e-15))\n",
    "y_train_pred = sig_clf.predict(X_train)\n",
    "y_test_pred = sig_clf.predict(X_test)\n",
    "y_val_pred = sig_clf.predict(X_val)\n",
    "print(\"--\"*20)\n",
    "print(\"Train accuracy ->\", accuracy_score(Y_train, y_train_pred))\n",
    "print(\"Test accuracy ->\", accuracy_score(Y_test, y_test_pred))\n",
    "print(\"Validation accuracy ->\", accuracy_score(Y_val, y_val_pred))"
   ]
  },
  {
   "cell_type": "code",
   "execution_count": null,
   "id": "39f7ed46-d662-4c7b-8782-bd6478c4f8a5",
   "metadata": {},
   "outputs": [],
   "source": []
  }
 ],
 "metadata": {
  "kernelspec": {
   "display_name": "Python 3",
   "language": "python",
   "name": "python3"
  },
  "language_info": {
   "codemirror_mode": {
    "name": "ipython",
    "version": 3
   },
   "file_extension": ".py",
   "mimetype": "text/x-python",
   "name": "python",
   "nbconvert_exporter": "python",
   "pygments_lexer": "ipython3",
   "version": "3.8.8"
  }
 },
 "nbformat": 4,
 "nbformat_minor": 5
}
